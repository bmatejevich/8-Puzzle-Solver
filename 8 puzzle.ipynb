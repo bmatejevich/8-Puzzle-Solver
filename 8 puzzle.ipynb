{
 "cells": [
  {
   "cell_type": "markdown",
   "metadata": {},
   "source": [
    "Welcome to the 8-puzzle solver! Below are functions that assist in the brute force search (BFS) of the 8-puzzle."
   ]
  },
  {
   "cell_type": "markdown",
   "metadata": {},
   "source": [
    "The BlankTileLocation function will search the current node for the position of the black tile and return it in rol col format."
   ]
  },
  {
   "cell_type": "code",
   "execution_count": 2,
   "metadata": {},
   "outputs": [],
   "source": [
    "def BlankTileLocation(state):\n",
    "    for row in range(len(state)):\n",
    "        for col in range(len(state)):\n",
    "            if state[row][col]==0:\n",
    "                return row,col"
   ]
  },
  {
   "cell_type": "markdown",
   "metadata": {},
   "source": [
    "The AddNode function will add a \"new\" node to the nodeList if the node has not been seen before. If the nodes has been seen OR the node is not possible (move blank tile outside of puzzle) the node will not be added to the list."
   ]
  },
  {
   "cell_type": "code",
   "execution_count": 3,
   "metadata": {},
   "outputs": [],
   "source": [
    "def AddNode(nodes,newNode):\n",
    "    inSet = False\n",
    "    for node in nodes:\n",
    "        if node[0] == newNode[0]:\n",
    "            inSet = True\n",
    "            #print(\"in set!\")\n",
    "    if newNode[0] == [[0, 0, 0], [0, 0, 0], [0, 0, 0]]:\n",
    "        canMove = False\n",
    "        #print(\"cant move\")\n",
    "    elif not inSet:\n",
    "        nodes.append(newNode)"
   ]
  },
  {
   "cell_type": "markdown",
   "metadata": {},
   "source": [
    "The below functions will move the blank tile in the given direction. If the move is not possible the function creates a faulty node which is recognized in the above function."
   ]
  },
  {
   "cell_type": "code",
   "execution_count": 4,
   "metadata": {},
   "outputs": [],
   "source": [
    "def ActionMoveLeft(node):\n",
    "    state = node\n",
    "    row,col = BlankTileLocation(state[0])\n",
    "    if col == 0:\n",
    "        status = False\n",
    "        newNode = [[[0,0,0],[0,0,0],[0,0,0]],1,1]\n",
    "    else:\n",
    "        status = True\n",
    "        state[0][row][col] = state[0][row][col-1]\n",
    "        state[0][row][col-1] = 0\n",
    "        newNode = [state[0],node[1],node[1]]\n",
    "    return status,newNode\n",
    "\n",
    "def ActionMoveRight(node):\n",
    "    state = node\n",
    "    row,col = BlankTileLocation(state[0])\n",
    "    if col == 2:\n",
    "        status = False\n",
    "        newNode = [[[0,0,0],[0,0,0],[0,0,0]],1,1]\n",
    "    else:\n",
    "        status = True\n",
    "        state[0][row][col] = state[0][row][col+1]\n",
    "        state[0][row][col+1] = 0\n",
    "        newNode = [state[0],node[1],node[1]]\n",
    "    return status,newNode\n",
    "\n",
    "def ActionMoveUp(node):\n",
    "    state = node\n",
    "    row,col = BlankTileLocation(state[0])\n",
    "    if row == 0:\n",
    "        status = False\n",
    "        newNode = [[[0,0,0],[0,0,0],[0,0,0]],1,1]\n",
    "    else:\n",
    "        status = True\n",
    "        state[0][row][col] = state[0][row-1][col]\n",
    "        state[0][row-1][col] = 0\n",
    "        newNode = [state[0],node[1],node[1]]\n",
    "    return status,newNode\n",
    "\n",
    "def ActionMoveDown(node):\n",
    "    state = node\n",
    "    row,col = BlankTileLocation(state[0])\n",
    "    if row == 2:\n",
    "        status = False\n",
    "        newNode = [[[0,0,0],[0,0,0],[0,0,0]],1,1]\n",
    "    else:\n",
    "        status = True\n",
    "        state[0][row][col] = state[0][row+1][col]\n",
    "        state[0][row+1][col] = 0\n",
    "        newNode = [state[0],node[1],node[1]]\n",
    "    return status,newNode"
   ]
  },
  {
   "cell_type": "markdown",
   "metadata": {},
   "source": [
    "The below function \"copyNode\" was created because for some reason I was unable to find a way to pass the node by value and any changes I made to the node in the \"ActionMove----\" affected the original node."
   ]
  },
  {
   "cell_type": "code",
   "execution_count": 5,
   "metadata": {},
   "outputs": [],
   "source": [
    "def copyNode(node):\n",
    "    copy = [[0,0,0],[0,0,0],[0,0,0]]\n",
    "    for y in range(3):\n",
    "        for x in range(3):\n",
    "            copy[y][x] = node[0][y][x]\n",
    "    return [copy,node[1],node[2]]"
   ]
  },
  {
   "cell_type": "markdown",
   "metadata": {},
   "source": [
    "The checkColvable function checks whether the given start node is solvable. It does this by counting the number of iversions, or times a smaller number comes after a larger number when the node is in a list format. EX: 1,2,3,4,5,6,8,7,0 this function has 1 inversion. The 0 term is considered a \"9\"."
   ]
  },
  {
   "cell_type": "code",
   "execution_count": 6,
   "metadata": {},
   "outputs": [],
   "source": [
    "def checkSolvable(node):\n",
    "    list = []\n",
    "    for row in range(3):\n",
    "        for col in range(3):\n",
    "            list.append(node[row][col])       \n",
    "    inversions = 0\n",
    "    for first in range(9):\n",
    "        for second in range(8):\n",
    "            if second+1 > first:\n",
    "                if list[second+1]<list[first] and list[first] !=0 and list[second+1] !=0:\n",
    "                    inversions +=1\n",
    "    if inversions%2 == 1:\n",
    "        return False;\n",
    "    else:\n",
    "        return True;"
   ]
  },
  {
   "cell_type": "markdown",
   "metadata": {},
   "source": [
    "Below is my solver. It begins with the initial state of the system and an empty list of nodes. The goal state is defined and the start node is added to the nodelist. A counter to keep track of the current parent node is created along with a boolean variable to tell whether we have reached the goal state or not."
   ]
  },
  {
   "cell_type": "code",
   "execution_count": 8,
   "metadata": {},
   "outputs": [
    {
     "name": "stdout",
     "output_type": "stream",
     "text": [
      "Solved!\n",
      "\n",
      "number: 1\n",
      "[1, 2, 3]\n",
      "[4, 0, 6]\n",
      "[7, 5, 8]\n",
      "\n",
      "number: 2\n",
      "[1, 2, 3]\n",
      "[4, 5, 6]\n",
      "[7, 0, 8]\n",
      "\n",
      "number: 3\n",
      "[1, 2, 3]\n",
      "[4, 6, 0]\n",
      "[7, 5, 8]\n",
      "\n",
      "number: 4\n",
      "[1, 2, 3]\n",
      "[0, 4, 6]\n",
      "[7, 5, 8]\n",
      "\n",
      "number: 5\n",
      "[1, 0, 3]\n",
      "[4, 2, 6]\n",
      "[7, 5, 8]\n",
      "\n",
      "number: 6\n",
      "[1, 2, 3]\n",
      "[4, 5, 6]\n",
      "[7, 8, 0]\n",
      "\n",
      "number: 7\n",
      "[1, 2, 3]\n",
      "[4, 5, 6]\n",
      "[0, 7, 8]\n",
      "\n",
      "Steps: 7\n"
     ]
    }
   ],
   "source": [
    "nodes = []\n",
    "startNode = [[[1,2,3],\n",
    "              [4,0,6],\n",
    "              [7,5,8]]   ,1,0]\n",
    "\n",
    "#this node will provide unsolvable\n",
    "#startNode = [[[8,1,2],\n",
    "              #[0,4,3],\n",
    "              #[7,6,5]]   ,1,0]\n",
    "\n",
    "goal = [[1,2,3],[4,5,6],[7,8,0]]\n",
    "nodes.append(startNode)\n",
    "finished = False\n",
    "i = 0\n",
    "\n",
    "if not checkSolvable(startNode[0]):\n",
    "    finished = True\n",
    "    print(\"unsolvable!\")\n",
    "while not finished:\n",
    "    \n",
    "    \n",
    "    copy = copyNode(nodes[i])\n",
    "    status,newNode = ActionMoveDown(copy)\n",
    "    newNode[1] = len(nodes)+1\n",
    "    AddNode(nodes,newNode)\n",
    "    \n",
    "    if newNode[0] == goal:\n",
    "        finished=True\n",
    "        print(\"Solved!\")\n",
    "        finalNode = newNode\n",
    "        \n",
    "    copy = copyNode(nodes[i])\n",
    "    status,newNode = ActionMoveRight(copy)\n",
    "    newNode[1] = len(nodes)+1\n",
    "    AddNode(nodes,newNode)\n",
    "    \n",
    "    if newNode[0] == goal:\n",
    "        finished=True\n",
    "        print(\"Solved!\")\n",
    "        finalNode = newNode\n",
    "    \n",
    "    copy = copyNode(nodes[i])\n",
    "    status,newNode = ActionMoveLeft(copy)\n",
    "    newNode[1] = len(nodes)+1\n",
    "    AddNode(nodes,newNode)\n",
    "    \n",
    "    if newNode[0] == goal:\n",
    "        finished=True  \n",
    "        print(\"Solved!\")\n",
    "        finalNode = newNode\n",
    "        \n",
    "    copy = copyNode(nodes[i])\n",
    "    status,newNode = ActionMoveUp(copy)\n",
    "    newNode[1] = len(nodes)+1\n",
    "    AddNode(nodes,newNode)\n",
    "    \n",
    "    if newNode[0] == goal:\n",
    "        finished=True \n",
    "        print(\"Solved!\")\n",
    "        finalNode = newNode\n",
    "        \n",
    "    i +=1\n",
    "print()\n",
    "x = 1   \n",
    "for node in nodes:\n",
    "        print(\"number: \"+ str(x))\n",
    "        print(node[0][0])\n",
    "        print(node[0][1])\n",
    "        print(node[0][2])\n",
    "        print()\n",
    "        x +=1\n",
    "        \n",
    "print(\"Steps: \"+str(len(nodes)))"
   ]
  },
  {
   "cell_type": "code",
   "execution_count": 9,
   "metadata": {},
   "outputs": [
    {
     "data": {
      "text/plain": [
       "True"
      ]
     },
     "execution_count": 9,
     "metadata": {},
     "output_type": "execute_result"
    }
   ],
   "source": [
    "checkSolvable(startNode[0])"
   ]
  },
  {
   "cell_type": "markdown",
   "metadata": {},
   "source": [
    "The generatePath function creates a list using the format of [current index,parent index]. This list outlines the steps to complete the puzzle, it creates this list via backtracking."
   ]
  },
  {
   "cell_type": "code",
   "execution_count": 10,
   "metadata": {},
   "outputs": [],
   "source": [
    "def generatePath(finalNode):\n",
    "    currentNode = finalNode\n",
    "    parent_node_index = -1\n",
    "    path = []\n",
    "    while parent_node_index != 1:\n",
    "        parent_node_index = currentNode[2]\n",
    "        current_index = currentNode[1]\n",
    "        path.append([current_index,parent_node_index])\n",
    "        currentNode = nodes[parent_node_index-1]\n",
    "    path.append([1,0])\n",
    "    path.reverse()\n",
    "    return path"
   ]
  },
  {
   "cell_type": "markdown",
   "metadata": {},
   "source": [
    "Use the below cell to see example of the nodePath"
   ]
  },
  {
   "cell_type": "code",
   "execution_count": 11,
   "metadata": {},
   "outputs": [
    {
     "name": "stdout",
     "output_type": "stream",
     "text": [
      "[[1, 0], [2, 1], [6, 2]]\n"
     ]
    }
   ],
   "source": [
    "path = generatePath(finalNode)\n",
    "print(path)"
   ]
  },
  {
   "cell_type": "markdown",
   "metadata": {},
   "source": [
    "The below cell takes the path and writes it to NodePath.txt for later use."
   ]
  },
  {
   "cell_type": "code",
   "execution_count": 12,
   "metadata": {},
   "outputs": [
    {
     "name": "stdout",
     "output_type": "stream",
     "text": [
      "1 4 7 2 0 5 3 6 8 \n",
      "1 4 7 2 5 0 3 6 8 \n",
      "1 4 7 2 5 8 3 6 0 \n"
     ]
    }
   ],
   "source": [
    "file1 = open(\"NodePath.txt\",\"w\") \n",
    "for node in path:\n",
    "    currentNode = nodes[node[0]-1][0]\n",
    "    for row in range(3):\n",
    "        for col in range(3):\n",
    "            print(currentNode[col][row],end=\" \")\n",
    "            file1.write(str(currentNode[col][row])+\" \")\n",
    "            if row ==2 and col == 2:\n",
    "                file1.write(\"\\n\")\n",
    "    print()\n",
    "file1.close() "
   ]
  },
  {
   "cell_type": "markdown",
   "metadata": {},
   "source": [
    "The below cell creates the nodesInfo.txt file which follows the format of our generated path."
   ]
  },
  {
   "cell_type": "code",
   "execution_count": 13,
   "metadata": {},
   "outputs": [
    {
     "name": "stdout",
     "output_type": "stream",
     "text": [
      "1 0\n",
      "2 1\n",
      "6 2\n"
     ]
    }
   ],
   "source": [
    "file1 = open(\"NodesInfo.txt\",\"w\") \n",
    "for node in path:\n",
    "    print(node[0],node[1])\n",
    "file1.close() "
   ]
  },
  {
   "cell_type": "markdown",
   "metadata": {},
   "source": [
    "The below cell creates a Nodes.txt file which documents all of the explored nodes in the system by our solver."
   ]
  },
  {
   "cell_type": "code",
   "execution_count": 14,
   "metadata": {},
   "outputs": [
    {
     "name": "stdout",
     "output_type": "stream",
     "text": [
      "1 4 7 2 0 5 3 6 8 \n",
      "1 4 7 2 5 0 3 6 8 \n",
      "1 4 7 2 6 5 3 0 8 \n",
      "1 0 7 2 4 5 3 6 8 \n",
      "1 4 7 0 2 5 3 6 8 \n",
      "1 4 7 2 5 8 3 6 0 \n",
      "1 4 0 2 5 7 3 6 8 \n"
     ]
    }
   ],
   "source": [
    "file1 = open(\"Nodes.txt\",\"w\") \n",
    "count = 1\n",
    "for node in nodes:\n",
    "    currentNode = node[0]\n",
    "    for row in range(3):\n",
    "        for col in range(3):\n",
    "            print(currentNode[col][row],end=\" \")\n",
    "    print()\n",
    "    count+=1\n",
    "file1.close() "
   ]
  },
  {
   "cell_type": "markdown",
   "metadata": {},
   "source": [
    "The below function was copied from the proffesor's supplied plot_path.py file to help visulize the solution."
   ]
  },
  {
   "cell_type": "code",
   "execution_count": 15,
   "metadata": {},
   "outputs": [
    {
     "name": "stdout",
     "output_type": "stream",
     "text": [
      "Start Node\n",
      "-------------\n",
      "| 1 | 2 | 3 | \n",
      "-------------\n",
      "| 4 | 0 | 6 | \n",
      "-------------\n",
      "| 7 | 5 | 8 | \n",
      "-------------\n",
      "\n",
      "\n",
      "Step  1\n",
      "-------------\n",
      "| 1 | 2 | 3 | \n",
      "-------------\n",
      "| 4 | 5 | 6 | \n",
      "-------------\n",
      "| 7 | 0 | 8 | \n",
      "-------------\n",
      "\n",
      "\n",
      "Achieved Goal Node\n",
      "-------------\n",
      "| 1 | 2 | 3 | \n",
      "-------------\n",
      "| 4 | 5 | 6 | \n",
      "-------------\n",
      "| 7 | 8 | 0 | \n",
      "-------------\n",
      "\n",
      "\n"
     ]
    }
   ],
   "source": [
    "import numpy as np\n",
    "\n",
    "def print_matrix(state):\n",
    "    counter = 0\n",
    "    for row in range(0, len(state), 3):\n",
    "        if counter == 0 :\n",
    "            print(\"-------------\")\n",
    "        for element in range(counter, len(state), 3):\n",
    "            if element <= counter:\n",
    "                print(\"|\", end=\" \")\n",
    "            print(int(state[element]), \"|\", end=\" \")\n",
    "        counter = counter +1\n",
    "        print(\"\\n-------------\")\n",
    "\n",
    "fname = 'nodePath.txt'\n",
    "data = np.loadtxt(fname)\n",
    "if len(data[1]) != 9:\n",
    "    print(\"Format of the text file is incorrect, retry \")\n",
    "else:\n",
    "    for i in range(0, len(data)):\n",
    "        if i == 0:\n",
    "            print(\"Start Node\")\n",
    "        elif i == len(data)-1:\n",
    "            print(\"Achieved Goal Node\")\n",
    "        else:\n",
    "            print(\"Step \",i)\n",
    "        print_matrix(data[i])\n",
    "        print()\n",
    "        print()"
   ]
  },
  {
   "cell_type": "code",
   "execution_count": null,
   "metadata": {},
   "outputs": [],
   "source": []
  }
 ],
 "metadata": {
  "kernelspec": {
   "display_name": "Python 3",
   "language": "python",
   "name": "python3"
  },
  "language_info": {
   "codemirror_mode": {
    "name": "ipython",
    "version": 3
   },
   "file_extension": ".py",
   "mimetype": "text/x-python",
   "name": "python",
   "nbconvert_exporter": "python",
   "pygments_lexer": "ipython3",
   "version": "3.8.1"
  }
 },
 "nbformat": 4,
 "nbformat_minor": 4
}
